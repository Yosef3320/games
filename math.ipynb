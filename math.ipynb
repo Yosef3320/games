#addition
i = input("what's 5+5?\n")
if i == "10":
    print("congradulations, you beat level 1")
    pass
else:
    while i.isdigit() and i != "10":
        z = input("what's 5 + 5?\n")
        if z == "10":
            print("congradulations, you beat level 1")
            break
        else:
            input("what's 5 + 5?\n")


a = input("what's 27 + 54?\n")
if a == "81":
    print("congradulations, you beat level 2")
    pass
else:
    while a.isdigit() and a != "81":
        a = input("what's 27 + 54?\n")
        if a == "81":
            print("congradulations, you beat level 2")
            break
        else:
            input("what's 27 + 54?\n")


#minus
u = input("what's 10 - 5?\n")
if u == "5":
    print("congradulations, you beat level 3")
    pass
else:
    while u.isdigit() and a != "5":
        u = input("what's 10 - 5?\n")
        if u == "5":
            print("congradulations, you beat level 3")
            break
        else:
            input("what's 10 - 5?\n")


n = input("what's 27 - 15?\n")
if n == "2":
    print("congradulations, you beat level 4")
    pass
else:
    while n.isdigit() and a != "2":
        n = input("what's 27 - 15?\n")
        if n == "2":
            print("congradulations, you beat level 4")
            break
        else:
            input("what's 27 - 15?\n")



#multiplication
v = input("what's 2 × 11?\n")
if v == "22":
    print("congradulations, you beat level 5")
    pass
else:
    while v.isdigit() and v != "22":
        v = input("what's 2 × 11?\n")
        if v == "22":
            print("congradulations, you beat level 5")
            break
        else:
            input("what's 2 × 11?\n")


x = input("what's 12 × 11?\n")
if x == "132":
    print("congradulations, you beat level 6")
    pass
else:
    while x.isdigit() and x != "132":
        x = input("what's 12 × 11?\n")
        if x == "132":
            print("congradulations, you beat level 6")
            break
        else:
            input("what's 12 × 11?\n")


f = input("what's 15 × 12?\n")
if f == "180":
    print("congradulations, you beat level 7")
    pass
else:
    while f.isdigit() and f != "180":
        f = input("what's 15 × 12?\n")
        if f == "180":
            print("congradulations, you beat level 7")
            break
        else:
            input("what's 15 × 12?\n")


#division
f = input("what's 20 ÷ 4?\n")
if f == "5":
    print("congradulations, you beat level 8")
    pass
else:
    while f.isdigit() and f != "5":
        f = input("what's 20 ÷ 4?\n")
        if f == "5":
            print("congradulations, you beat level 8")
            break  
        else:                                     
            input("what's 20 ÷ 4?\n")


g = input("what's 60 ÷ 5?\n")
if g == "12":
    print("congradulations, you beat level 9")
    pass
else:
    while g.isdigit() and g != "12":
        g = input("what's 60 ÷ 5?\n")
        if g == "12":
            print("congradulations, you beat level 9")
            break  
        else:                                     
            input("what's 60 ÷ 5?\n")


#hard addition
h = input("what's 659 + 239?\n")
if h == "898":
    print("congradulations, you beat level 10")
    pass
else:
    while h.isdigit() and h != "898":
        h = input("what's 659 + 239?\n")
        if h == "898":
            print("congradulations, you beat level 10")
            break  
        else:                                     
            input("what's 659 + 239?\n")


h = input("what's 984 + 735?\n")
if h == "1769":
    print("congradulations, you beat level 11")
    pass
else:
    while h.isdigit() and h != "1769":
        h = input("what's 984 + 735?\n")
        if h == "1769":
            print("congradulations, you beat level 11")
            break  
        else:                                     
            input("what's  984 + 735?\n")
